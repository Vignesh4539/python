{
 "cells": [
  {
   "cell_type": "code",
   "execution_count": 1,
   "id": "b0d62d27",
   "metadata": {},
   "outputs": [
    {
     "name": "stdout",
     "output_type": "stream",
     "text": [
      "area of the cone is  126.15619778978646\n",
      "area of cylinder is  224\n",
      "area of circle is  45.36459791783661\n",
      "circumference of circle is  23.876104167282428\n"
     ]
    }
   ],
   "source": [
    "import math\n",
    "radius = 3.8\n",
    "height = 5.6\n",
    "area_of_cone = math.pi * radius * (radius + math.sqrt(radius**2 + height**2))\n",
    "area_of_cylinder = 2 * math.pi * radius * (radius + height)\n",
    "area_of_circle= math.pi * radius**2\n",
    "circumference = 2 * math.pi * radius\n",
    "\n",
    "\n",
    "print(\"area of the cone is \", (area_of_cone))\n",
    "print(\"area of cylinder is \", int(area_of_cylinder))\n",
    "print(\"area of circle is \", (area_of_circle))\n",
    "print(\"circumference of circle is \", (circumference))"
   ]
  }
 ],
 "metadata": {
  "kernelspec": {
   "display_name": "Python 3 (ipykernel)",
   "language": "python",
   "name": "python3"
  },
  "language_info": {
   "codemirror_mode": {
    "name": "ipython",
    "version": 3
   },
   "file_extension": ".py",
   "mimetype": "text/x-python",
   "name": "python",
   "nbconvert_exporter": "python",
   "pygments_lexer": "ipython3",
   "version": "3.10.9"
  }
 },
 "nbformat": 4,
 "nbformat_minor": 5
}
