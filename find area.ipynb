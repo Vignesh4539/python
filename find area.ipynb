{
 "cells": [
  {
   "cell_type": "code",
   "execution_count": 3,
   "id": "741b98b2",
   "metadata": {},
   "outputs": [
    {
     "name": "stdout",
     "output_type": "stream",
     "text": [
      "area of circle  254.041748339885\n"
     ]
    }
   ],
   "source": [
    "import math\n",
    "radius=3.8\n",
    "height=5.6\n",
    "area= math.pi * (radius**2) *height\n",
    "\n",
    "print(\"area of circle \",(area))"
   ]
  },
  {
   "cell_type": "code",
   "execution_count": 4,
   "id": "c3f73132",
   "metadata": {},
   "outputs": [
    {
     "name": "stdout",
     "output_type": "stream",
     "text": [
      "area of circle  253.91295999999997\n"
     ]
    }
   ],
   "source": [
    "radius=3.8\n",
    "height=5.6\n",
    "area= 3.14 * (radius**2) *height\n",
    "\n",
    "print(\"area of circle \",(area))"
   ]
  },
  {
   "cell_type": "code",
   "execution_count": 8,
   "id": "d231c1f7",
   "metadata": {},
   "outputs": [
    {
     "name": "stdout",
     "output_type": "stream",
     "text": [
      "area of cone 591.8272\n"
     ]
    }
   ],
   "source": [
    "area_of_cone = 3.14 * radius * (radius + (radius**2 + height**2))\n",
    "print(\"area of cone\",(area_of_cone))"
   ]
  },
  {
   "cell_type": "code",
   "execution_count": 10,
   "id": "064501c7",
   "metadata": {},
   "outputs": [
    {
     "name": "stdout",
     "output_type": "stream",
     "text": [
      "area of cylinder 224\n"
     ]
    }
   ],
   "source": [
    "area_of_cylinder = 2 * 3.14 * radius * (radius + height)\n",
    "print(\"area of cylinder\",int(area_of_cylinder))"
   ]
  },
  {
   "cell_type": "code",
   "execution_count": 11,
   "id": "69e01849",
   "metadata": {},
   "outputs": [
    {
     "name": "stdout",
     "output_type": "stream",
     "text": [
      "area of circumference of circle 23.864\n"
     ]
    }
   ],
   "source": [
    "circumference = 2 * 3.14 * radius\n",
    "print(\"area of circumference of circle\",(circumference))\n"
   ]
  },
  {
   "cell_type": "code",
   "execution_count": null,
   "id": "774039dd",
   "metadata": {},
   "outputs": [],
   "source": []
  }
 ],
 "metadata": {
  "kernelspec": {
   "display_name": "Python 3 (ipykernel)",
   "language": "python",
   "name": "python3"
  },
  "language_info": {
   "codemirror_mode": {
    "name": "ipython",
    "version": 3
   },
   "file_extension": ".py",
   "mimetype": "text/x-python",
   "name": "python",
   "nbconvert_exporter": "python",
   "pygments_lexer": "ipython3",
   "version": "3.10.9"
  }
 },
 "nbformat": 4,
 "nbformat_minor": 5
}
